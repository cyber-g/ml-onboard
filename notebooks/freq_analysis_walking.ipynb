{
 "cells": [
  {
   "cell_type": "code",
   "execution_count": null,
   "id": "3a39224e",
   "metadata": {},
   "outputs": [],
   "source": [
    "import os\n",
    "import sys\n",
    "\n",
    "from matplotlib import pyplot as plt\n",
    "import numpy as np\n",
    "import pandas as pd\n",
    "from scipy.fft import fft, fftfreq, fftshift\n",
    "import seaborn as sns\n",
    "\n",
    "module_path = os.path.abspath(os.path.join('../src'))\n",
    "if module_path not in sys.path:\n",
    "    sys.path.append(module_path)\n",
    "\n",
    "%load_ext autoreload\n",
    "%autoreload 2\n",
    "\n",
    "from helpers import (read_data,  # noqa E402\n",
    "                     create_segments_and_labels,\n",
    "                     save_converted_model,\n",
    "                     compare)\n",
    "\n",
    "# Set some standard parameters upfront\n",
    "pd.options.display.float_format = '{:.1f}'.format\n",
    "sns.set()  # Default seaborn look and feel\n",
    "plt.style.use('ggplot')\n",
    "%matplotlib inline"
   ]
  },
  {
   "cell_type": "code",
   "execution_count": null,
   "id": "8ffcf906",
   "metadata": {},
   "outputs": [],
   "source": [
    "TIME_PERIODS = 80\n",
    "F_S = 20"
   ]
  },
  {
   "cell_type": "code",
   "execution_count": null,
   "id": "a0210041",
   "metadata": {},
   "outputs": [],
   "source": [
    "df_adem = read_data('../data/data_adem.txt')\n",
    "df_mathis = read_data('../data/data_mathis.txt')\n",
    "df_wisdm = read_data('../data/WISDM.txt',\n",
    "                     ['user-id',\n",
    "                      'activity',\n",
    "                      'timestamp',\n",
    "                      'x-axis',\n",
    "                      'y-axis',\n",
    "                      'z-axis'])"
   ]
  },
  {
   "cell_type": "code",
   "execution_count": null,
   "id": "8f11596e",
   "metadata": {},
   "outputs": [],
   "source": [
    "t = 5 * TIME_PERIODS"
   ]
  },
  {
   "cell_type": "code",
   "execution_count": null,
   "id": "5b74bced",
   "metadata": {},
   "outputs": [],
   "source": [
    "activity = 'Downstairs'"
   ]
  },
  {
   "cell_type": "code",
   "execution_count": null,
   "id": "9159fdb4",
   "metadata": {},
   "outputs": [],
   "source": [
    "x_adem = df_adem[df_adem['activity'] == activity]['x-axis']\n",
    "x_adem = np.array(x_adem)[t:t + TIME_PERIODS]\n",
    "y_adem = df_adem[df_adem['activity'] == activity]['y-axis']\n",
    "y_adem = np.array(y_adem)[t:t + TIME_PERIODS]\n",
    "z_adem = df_adem[df_adem['activity'] == activity]['z-axis']\n",
    "z_adem = np.array(z_adem)[t:t + TIME_PERIODS]"
   ]
  },
  {
   "cell_type": "code",
   "execution_count": null,
   "id": "c515157b",
   "metadata": {},
   "outputs": [],
   "source": [
    "x_mathis = df_mathis[df_mathis['activity'] == activity]['x-axis']\n",
    "x_mathis = np.array(x_mathis)[t:t + TIME_PERIODS]\n",
    "y_mathis = df_mathis[df_mathis['activity'] == activity]['y-axis']\n",
    "y_mathis = np.array(y_mathis)[t:t + TIME_PERIODS]\n",
    "z_mathis = df_mathis[df_mathis['activity'] == activity]['z-axis']\n",
    "z_mathis = np.array(z_mathis)[t:t + TIME_PERIODS]"
   ]
  },
  {
   "cell_type": "code",
   "execution_count": null,
   "id": "5ea29f26",
   "metadata": {},
   "outputs": [],
   "source": [
    "rnd = 20  # np.random.randint(df_wisdm['user-id'].min(),\n",
    "# df_wisdm['user-id'].max())\n",
    "x_wisdm = df_wisdm[(df_wisdm['activity'] == activity) &\n",
    "                   (df_wisdm['user-id'] == rnd)]['x-axis']\n",
    "x_wisdm = np.array(x_wisdm)[t:t + TIME_PERIODS]\n",
    "y_wisdm = df_wisdm[(df_wisdm['activity'] == activity) &\n",
    "                   (df_wisdm['user-id'] == rnd)]['y-axis']\n",
    "y_wisdm = np.array(y_wisdm)[t:t + TIME_PERIODS]\n",
    "z_wisdm = df_wisdm[(df_wisdm['activity'] == activity) &\n",
    "                   (df_wisdm['user-id'] == rnd)]['z-axis']\n",
    "z_wisdm = np.array(z_wisdm)[t:t + TIME_PERIODS]"
   ]
  },
  {
   "cell_type": "code",
   "execution_count": null,
   "id": "cafd9301",
   "metadata": {},
   "outputs": [],
   "source": [
    "N = TIME_PERIODS\n",
    "T = 1 / F_S\n",
    "f = fftshift(fftfreq(N, T))[N // 2:]"
   ]
  },
  {
   "cell_type": "code",
   "execution_count": null,
   "id": "054461ec",
   "metadata": {},
   "outputs": [],
   "source": [
    "fig, (ax0, ax1, ax2) = plt.subplots(nrows=3,\n",
    "                                    figsize=(15, 10), sharex=True)\n",
    "ax0.plot(f, abs(fftshift(fft(x_adem)))[N // 2:], 'r', label='adem')\n",
    "ax0.plot(f, abs(fftshift(fft(x_mathis)))[N // 2:], 'g', label='mathis')\n",
    "ax0.plot(f, abs(fftshift(fft(x_wisdm)))[N // 2:], 'b', label=f'user {rnd}')\n",
    "ax1.plot(f, abs(fftshift(fft(y_adem)))[N // 2:], 'r')\n",
    "ax1.plot(f, abs(fftshift(fft(y_mathis)))[N // 2:], 'g')\n",
    "ax1.plot(f, abs(fftshift(fft(y_wisdm)))[N // 2:], 'b')\n",
    "ax2.plot(f, abs(fftshift(fft(z_adem)))[N // 2:], 'r')\n",
    "ax2.plot(f, abs(fftshift(fft(z_mathis)))[N // 2:], 'g')\n",
    "ax2.plot(f, abs(fftshift(fft(z_wisdm)))[N // 2:], 'b')\n",
    "ax0.set_title('x-axis')\n",
    "ax1.set_title('y-axis')\n",
    "ax2.set_title('z-axis')\n",
    "fig.suptitle(f'{activity} fft')\n",
    "plt.subplots_adjust(hspace=0.2)\n",
    "plt.subplots_adjust(top=0.90)\n",
    "ax0.legend()\n",
    "plt.show()"
   ]
  }
 ],
 "metadata": {
  "kernelspec": {
   "display_name": "Python 3",
   "language": "python",
   "name": "python3"
  },
  "language_info": {
   "codemirror_mode": {
    "name": "ipython",
    "version": 3
   },
   "file_extension": ".py",
   "mimetype": "text/x-python",
   "name": "python",
   "nbconvert_exporter": "python",
   "pygments_lexer": "ipython3"
  }
 },
 "nbformat": 4,
 "nbformat_minor": 5
}
