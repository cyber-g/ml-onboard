{
 "cells": [
  {
   "cell_type": "code",
   "execution_count": null,
   "id": "5b2d789f",
   "metadata": {},
   "outputs": [],
   "source": [
    "import numpy as np\n",
    "import pandas as pd\n",
    "from matplotlib import pyplot as plt\n",
    "import seaborn as sns\n",
    "from scipy import interpolate, stats\n",
    "from sklearn import preprocessing\n",
    "from sklearn.metrics import classification_report, confusion_matrix\n",
    "from tensorflow.keras.models import load_model\n",
    "sns.set()"
   ]
  },
  {
   "cell_type": "code",
   "execution_count": null,
   "id": "b7633214",
   "metadata": {},
   "outputs": [],
   "source": [
    "def read_data_test(file_path, user_id):\n",
    "    \"\"\"\n",
    "    Read the accelerometer data for test from a file.\n",
    "\n",
    "    Args:\n",
    "        file_path: URL pointing to the CSV file\n",
    "    Returns:\n",
    "        A pandas dataframe\n",
    "    \"\"\"\n",
    "\n",
    "    df = pd.read_csv(file_path,\n",
    "                     header=0)\n",
    "    df.columns = ['Time', 'timestamp', 'x-axis', 'y-axis', 'z-axis']\n",
    "    df = df.assign(activity=None, user_id=user_id)\n",
    "\n",
    "    # Some rows are duplicates, remove them\n",
    "    df.drop_duplicates(inplace=True, ignore_index=True)\n",
    "\n",
    "    return df"
   ]
  },
  {
   "cell_type": "code",
   "execution_count": null,
   "id": "8238fc10",
   "metadata": {},
   "outputs": [],
   "source": [
    "df = read_data_test('../data/Accelerometer_mathis.csv', 0)\n",
    "df['timestamp'] = df['timestamp'] - df['timestamp'].min()\n",
    "t = np.arange(0, df['timestamp'].max(), 50)\n",
    "clean_df = pd.DataFrame(t, columns=['timestamp'])\n",
    "for axis in ['x-axis', 'y-axis', 'z-axis']:\n",
    "    x = df['timestamp']\n",
    "    y = df[axis]\n",
    "    f = interpolate.interp1d(x, y)\n",
    "    clean_df[axis] = f(t)\n",
    "clean_df"
   ]
  },
  {
   "cell_type": "code",
   "execution_count": null,
   "id": "298f4e4e",
   "metadata": {},
   "outputs": [],
   "source": [
    "clean_df.head()"
   ]
  },
  {
   "cell_type": "code",
   "execution_count": null,
   "id": "f5924842",
   "metadata": {},
   "outputs": [],
   "source": [
    "def plot_axis(ax, x, y, title):\n",
    "    ax.plot(x, y)\n",
    "    ax.set_title(title)\n",
    "    # ax.xaxis.set_visible(False)\n",
    "    ax.set_ylim([min(y) - np.std(y), max(y) + np.std(y)])\n",
    "    ax.set_xlim([min(x), max(x)])\n",
    "    ax.grid(True)\n",
    "\n",
    "\n",
    "def plot_data(data):\n",
    "    fig, ax0 = plt.subplots(nrows=1, figsize=(15, 3), sharex=True)\n",
    "    plot_axis(ax0, data['timestamp'], data['x-axis'], 'x-axis')\n",
    "    # plot_axis(ax1, data['timestamp'], data['y-axis'], 'y-axis')\n",
    "    # plot_axis(ax2, data['timestamp'], data['z-axis'], 'z-axis')\n",
    "    plt.subplots_adjust(hspace=0.2)\n",
    "    plt.subplots_adjust(top=0.90)\n",
    "    plt.show()"
   ]
  },
  {
   "cell_type": "code",
   "execution_count": null,
   "id": "96da215e",
   "metadata": {},
   "outputs": [],
   "source": [
    "plot_data(clean_df[(clean_df['timestamp'] > 30000) &\n",
    "                   (clean_df['timestamp'] < 50000)])\n",
    "plot_data(df[(df['timestamp'] > 30000) & (df['timestamp'] < 50000)])\n",
    "print(df['timestamp'].max(), clean_df['timestamp'].max())"
   ]
  },
  {
   "cell_type": "code",
   "execution_count": null,
   "id": "739981f4",
   "metadata": {},
   "outputs": [],
   "source": [
    "label_time = pd.read_csv('../data/intervals.txt')\n",
    "t0 = pd.to_datetime(df['Time'].iloc[0], format='%Y-%m-%d %H:%M:%S')\n",
    "dt_start = pd.to_datetime(label_time['start'], format='%Y-%m-%d %H:%M:%S')\n",
    "label_time['start'] = (dt_start - t0).apply(\n",
    "    lambda x: int(round(x.total_seconds() * 1e3)))\n",
    "dt_end = pd.to_datetime(label_time['end'], format='%Y-%m-%d %H:%M:%S')\n",
    "label_time['end'] = (dt_end - t0).apply(\n",
    "    lambda x: int(round(x.total_seconds() * 1e3)))\n",
    "label_time"
   ]
  },
  {
   "cell_type": "code",
   "execution_count": null,
   "id": "c9b45973",
   "metadata": {},
   "outputs": [],
   "source": [
    "clean_df.loc[:, 'activity'] = None\n",
    "for i in label_time.index:\n",
    "    entry = label_time.loc[i]\n",
    "    clean_df.loc[(clean_df['timestamp'] >= entry['start']) &\n",
    "                 (clean_df['timestamp'] <= entry['end']),\n",
    "                 'activity'] = entry['activity']\n",
    "clean_df.dropna(inplace=True)\n",
    "clean_df"
   ]
  },
  {
   "cell_type": "code",
   "execution_count": null,
   "id": "a1828e38",
   "metadata": {},
   "outputs": [],
   "source": [
    "LABEL = 'ActivityEncoded'\n",
    "le = preprocessing.LabelEncoder()\n",
    "clean_df[LABEL] = le.fit_transform(clean_df['activity'].values.ravel())\n",
    "LABELS = np.asarray(le.classes_, dtype=str)"
   ]
  },
  {
   "cell_type": "code",
   "execution_count": null,
   "id": "7a61f078-7b91-4273-93fa-4af68ebe701f",
   "metadata": {},
   "outputs": [],
   "source": [
    "print(LABELS)"
   ]
  },
  {
   "cell_type": "code",
   "execution_count": null,
   "id": "79cc5664",
   "metadata": {},
   "outputs": [],
   "source": [
    "def create_segments_and_labels(clean_df, df,\n",
    "                               time_interval, time_step,\n",
    "                               label_name):\n",
    "    \"\"\"\n",
    "    This function receives a dataframe and returns the reshaped segments\n",
    "    of x,y,z acceleration as well as the corresponding labels\n",
    "\n",
    "    Args:\n",
    "        clean_df: Cleaned up DataFrame\n",
    "        df: original DataFrame\n",
    "        time_interval: Size of the sliding window in seconds\n",
    "        time_step: step to advance for each iteration in seconds\n",
    "        label_name: name of the column containing the encoded labels\n",
    "    Returns:\n",
    "        reshaped_segments\n",
    "        labels:\n",
    "    \"\"\"\n",
    "\n",
    "    # x, y, z acceleration as features\n",
    "    N_FEATURES = 3\n",
    "    segments = []\n",
    "    labels = []\n",
    "    t_interval_ms = 1000 * time_interval\n",
    "    t_step_ms = 1000 * time_step\n",
    "    n_samples = 20 * time_interval\n",
    "    ts = 'timestamp'\n",
    "    time = np.arange(clean_df[ts].min(),\n",
    "                     clean_df[ts].max(),\n",
    "                     t_step_ms)\n",
    "    for t in time:\n",
    "        if len(df[(t <= df[ts]) &\n",
    "                  (df[ts] < t + t_interval_ms)]) > 0.5 * n_samples:\n",
    "\n",
    "            xs = clean_df['x-axis'][\n",
    "                (t <= clean_df[ts]) &\n",
    "                (clean_df[ts] < t + t_interval_ms)].values\n",
    "\n",
    "            ys = clean_df['y-axis'][\n",
    "                (t <= clean_df[ts]) &\n",
    "                (clean_df[ts] < t + t_interval_ms)].values\n",
    "\n",
    "            zs = clean_df['z-axis'][\n",
    "                (t <= clean_df[ts]) &\n",
    "                (clean_df[ts] < t + t_interval_ms)].values\n",
    "\n",
    "            if len(xs) == len(ys) == len(zs) == n_samples:\n",
    "                # Retrieve the most often used label in this segment\n",
    "                try:\n",
    "                    label = stats.mode(\n",
    "                        clean_df[label_name][\n",
    "                            (t <= clean_df[ts]) &\n",
    "                            (clean_df[ts] < t + t_interval_ms)])[0][0]\n",
    "                    segments.append([xs, ys, zs])\n",
    "                    labels.append(label)\n",
    "                except IndexError:\n",
    "                    pass\n",
    "    # Bring the segments into a better shape\n",
    "    reshaped_segments = np.asarray(segments,\n",
    "                                   dtype=np.float32).reshape(-1,\n",
    "                                                             n_samples,\n",
    "                                                             N_FEATURES)\n",
    "    labels = np.asarray(labels)\n",
    "\n",
    "    return reshaped_segments, labels"
   ]
  },
  {
   "cell_type": "code",
   "execution_count": null,
   "id": "656bd136",
   "metadata": {},
   "outputs": [],
   "source": [
    "TIME_INTERVAL = 4\n",
    "TIME_STEP = 2\n",
    "clean_df = clean_df.round({'x-axis': 6, 'y-axis': 6, ' z-axis': 6})\n",
    "x_test, y_test = create_segments_and_labels(clean_df,\n",
    "                                            df,\n",
    "                                            TIME_INTERVAL,\n",
    "                                            TIME_STEP,\n",
    "                                            LABEL\n",
    "                                            )"
   ]
  },
  {
   "cell_type": "code",
   "execution_count": null,
   "id": "1d8a03a0",
   "metadata": {},
   "outputs": [],
   "source": [
    "x_test.shape"
   ]
  },
  {
   "cell_type": "code",
   "execution_count": null,
   "id": "2cdc668f",
   "metadata": {},
   "outputs": [],
   "source": [
    "model_m = load_model('../models/cnn/saved')\n",
    "y_test_neural = pd.get_dummies(y_test)\n",
    "score = model_m.evaluate(x_test, y_test_neural, verbose=1)\n",
    "\n",
    "print(f\"\\nAccuracy on test data: {score[1]*100:.1f}%\")\n",
    "print(f\"\\nLoss on test data: {score[0]:.2f}\")"
   ]
  },
  {
   "cell_type": "code",
   "execution_count": null,
   "id": "f5403c0b",
   "metadata": {
    "scrolled": true
   },
   "outputs": [],
   "source": [
    "y_pred_test = model_m.predict(x_test)\n",
    "# Take the class with the highest probability from the test predictions\n",
    "max_y_pred_test = np.argmax(y_pred_test, axis=1)\n",
    "\n",
    "cf_matrix = pd.DataFrame(confusion_matrix(y_test, max_y_pred_test),\n",
    "                         columns=LABELS, index=LABELS)\n",
    "sns.heatmap(cf_matrix/np.sum(cf_matrix), annot=True, fmt='.2%', cmap='Greens')\n",
    "\n",
    "print(classification_report(y_test, max_y_pred_test))"
   ]
  },
  {
   "cell_type": "code",
   "execution_count": null,
   "id": "9efed06d",
   "metadata": {},
   "outputs": [],
   "source": []
  }
 ],
 "metadata": {
  "kernelspec": {
   "display_name": "Python 3",
   "language": "python",
   "name": "python3"
  },
  "language_info": {
   "codemirror_mode": {
    "name": "ipython",
    "version": 3
   },
   "file_extension": ".py",
   "mimetype": "text/x-python",
   "name": "python",
   "nbconvert_exporter": "python",
   "pygments_lexer": "ipython3",
   "version": "3.9.4"
  }
 },
 "nbformat": 4,
 "nbformat_minor": 5
}
